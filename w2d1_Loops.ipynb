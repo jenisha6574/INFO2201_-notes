{
 "cells": [
  {
   "cell_type": "markdown",
   "metadata": {
    "id": "X2gkm-WacDkt"
   },
   "source": [
    "## Week 2 Day 1 - Loops\n",
    "- While loops\n",
    "- For loops\n",
    "- nested loops\n",
    "- strings\n",
    "- dictionaries"
   ]
  },
  {
   "cell_type": "code",
   "execution_count": null,
   "metadata": {},
   "outputs": [],
   "source": []
  },
  {
   "cell_type": "markdown",
   "metadata": {},
   "source": [
    "\n"
   ]
  },
  {
   "cell_type": "markdown",
   "metadata": {
    "id": "k1O3f4Eucfwb"
   },
   "source": [
    "### Updating variables"
   ]
  },
  {
   "cell_type": "code",
   "execution_count": 1,
   "metadata": {
    "colab": {
     "base_uri": "https://localhost:8080/"
    },
    "executionInfo": {
     "elapsed": 171,
     "status": "ok",
     "timestamp": 1686335813541,
     "user": {
      "displayName": "Anas Buhayh",
      "userId": "13931278578707862625"
     },
     "user_tz": 360
    },
    "id": "CeY_aHBkcfUu",
    "outputId": "fa82d8a8-82df-471f-841d-2e65e1675779"
   },
   "outputs": [
    {
     "name": "stdout",
     "output_type": "stream",
     "text": [
      "6\n"
     ]
    }
   ],
   "source": [
    "# make a variable\n",
    "x = 5\n",
    "#add one to it\n",
    "x = x + 1\n",
    "\n",
    "#check\n",
    "print (x)"
   ]
  },
  {
   "cell_type": "code",
   "execution_count": 18,
   "metadata": {},
   "outputs": [],
   "source": [
    "#subtract\n",
    "x -= 1"
   ]
  },
  {
   "cell_type": "code",
   "execution_count": 19,
   "metadata": {},
   "outputs": [
    {
     "name": "stdout",
     "output_type": "stream",
     "text": [
      "10\n"
     ]
    }
   ],
   "source": [
    "#multiply\n",
    "x *= 2\n",
    "print(x)"
   ]
  },
  {
   "cell_type": "markdown",
   "metadata": {
    "id": "3czpHtuGcV7F"
   },
   "source": [
    "### While loop\n",
    "\n",
    "A while loop is a control flow statement that allows code to be executed repeatedly based on a given Boolean condition. The while loop can be thought of as a repeating if statement. \n",
    "\n",
    "With the **break** statement we can stop the loop even if the while condition is true. \n",
    "\n",
    "With the **continue** statement we can stop the current iteration, and continue with the next.\n",
    "\n",
    "With the **else** statement we can run a block of code once when the condition no longer is true"
   ]
  },
  {
   "cell_type": "code",
   "execution_count": 3,
   "metadata": {
    "id": "OKi1b5fdbbqw"
   },
   "outputs": [
    {
     "name": "stdout",
     "output_type": "stream",
     "text": [
      "5\n",
      "4\n",
      "3\n",
      "2\n",
      "1\n",
      "Blastoff\n"
     ]
    }
   ],
   "source": [
    "#define a variable \n",
    "\n",
    "n = 5\n",
    "#make a while loop to print n while it is greater than 0 and subtract one wiht every loop\n",
    "while n>0:\n",
    "    print(n)\n",
    "    n-=1\n",
    "#print blastoff when done\n",
    "print('Blastoff')"
   ]
  },
  {
   "cell_type": "code",
   "execution_count": 6,
   "metadata": {
    "id": "jANlpEzKiSjN"
   },
   "outputs": [
    {
     "name": "stdout",
     "output_type": "stream",
     "text": [
      "counter:  1\n",
      "variable:  1\n",
      "counter:  2\n",
      "variable:  2\n",
      "counter:  3\n",
      "variable:  6\n",
      "counter:  4\n",
      "variable:  24\n",
      "counter:  5\n",
      "variable:  120\n",
      "counter:  6\n",
      "variable:  720\n",
      "counter:  7\n",
      "variable:  5040\n",
      "counter:  8\n",
      "variable:  40320\n",
      "counter:  9\n",
      "variable:  362880\n",
      "counter:  10\n",
      "variable:  3628800\n",
      "counter:  11\n",
      "variable:  39916800\n"
     ]
    }
   ],
   "source": [
    "#make a counter\n",
    "counter = 0\n",
    "\n",
    "#define another variable \n",
    "mVar = 1\n",
    "\n",
    "\n",
    "#while the counter is less than or equal to 10\n",
    "while counter <= 10: \n",
    "    counter += 1\n",
    "\n",
    "    # mutliply the variable by the counter\n",
    "    mVar *= counter\n",
    "\n",
    "    #print the both variables\n",
    "    print(\"counter: \", counter)\n",
    "    print(\"variable: \", mVar)"
   ]
  },
  {
   "cell_type": "code",
   "execution_count": 8,
   "metadata": {
    "colab": {
     "base_uri": "https://localhost:8080/"
    },
    "executionInfo": {
     "elapsed": 8132,
     "status": "ok",
     "timestamp": 1686335896319,
     "user": {
      "displayName": "Anas Buhayh",
      "userId": "13931278578707862625"
     },
     "user_tz": 360
    },
    "id": "d2GAxCFzc10j",
    "outputId": "79850417-a5be-4586-abfc-36cc68505d1b"
   },
   "outputs": [
    {
     "name": "stdout",
     "output_type": "stream",
     "text": [
      "Type here: Monday\n",
      "Monday\n",
      "Type here: Done\n",
      "Done\n"
     ]
    },
    {
     "ename": "KeyboardInterrupt",
     "evalue": "Interrupted by user",
     "output_type": "error",
     "traceback": [
      "\u001b[0;31m---------------------------------------------------------------------------\u001b[0m",
      "\u001b[0;31mKeyboardInterrupt\u001b[0m                         Traceback (most recent call last)",
      "\u001b[0;32m/var/folders/vw/pm30yvwx2j16k5b7q2hm828c0000gn/T/ipykernel_30613/4172041018.py\u001b[0m in \u001b[0;36m<module>\u001b[0;34m\u001b[0m\n\u001b[1;32m      4\u001b[0m \u001b[0;31m#make a new while loop that allows for input\u001b[0m\u001b[0;34m\u001b[0m\u001b[0;34m\u001b[0m\u001b[0m\n\u001b[1;32m      5\u001b[0m \u001b[0;32mwhile\u001b[0m \u001b[0;32mTrue\u001b[0m\u001b[0;34m:\u001b[0m\u001b[0;34m\u001b[0m\u001b[0;34m\u001b[0m\u001b[0m\n\u001b[0;32m----> 6\u001b[0;31m     \u001b[0mline\u001b[0m \u001b[0;34m=\u001b[0m \u001b[0minput\u001b[0m\u001b[0;34m(\u001b[0m\u001b[0;34m'Type here: '\u001b[0m\u001b[0;34m)\u001b[0m\u001b[0;34m\u001b[0m\u001b[0;34m\u001b[0m\u001b[0m\n\u001b[0m\u001b[1;32m      7\u001b[0m \u001b[0;34m\u001b[0m\u001b[0m\n\u001b[1;32m      8\u001b[0m \u001b[0;31m#when the user types 'done' break the loop\u001b[0m\u001b[0;34m\u001b[0m\u001b[0;34m\u001b[0m\u001b[0m\n",
      "\u001b[0;32m~/opt/anaconda3/lib/python3.9/site-packages/ipykernel/kernelbase.py\u001b[0m in \u001b[0;36mraw_input\u001b[0;34m(self, prompt)\u001b[0m\n\u001b[1;32m   1175\u001b[0m                 \u001b[0;34m\"raw_input was called, but this frontend does not support input requests.\"\u001b[0m\u001b[0;34m\u001b[0m\u001b[0;34m\u001b[0m\u001b[0m\n\u001b[1;32m   1176\u001b[0m             )\n\u001b[0;32m-> 1177\u001b[0;31m         return self._input_request(\n\u001b[0m\u001b[1;32m   1178\u001b[0m             \u001b[0mstr\u001b[0m\u001b[0;34m(\u001b[0m\u001b[0mprompt\u001b[0m\u001b[0;34m)\u001b[0m\u001b[0;34m,\u001b[0m\u001b[0;34m\u001b[0m\u001b[0;34m\u001b[0m\u001b[0m\n\u001b[1;32m   1179\u001b[0m             \u001b[0mself\u001b[0m\u001b[0;34m.\u001b[0m\u001b[0m_parent_ident\u001b[0m\u001b[0;34m[\u001b[0m\u001b[0;34m\"shell\"\u001b[0m\u001b[0;34m]\u001b[0m\u001b[0;34m,\u001b[0m\u001b[0;34m\u001b[0m\u001b[0;34m\u001b[0m\u001b[0m\n",
      "\u001b[0;32m~/opt/anaconda3/lib/python3.9/site-packages/ipykernel/kernelbase.py\u001b[0m in \u001b[0;36m_input_request\u001b[0;34m(self, prompt, ident, parent, password)\u001b[0m\n\u001b[1;32m   1217\u001b[0m             \u001b[0;32mexcept\u001b[0m \u001b[0mKeyboardInterrupt\u001b[0m\u001b[0;34m:\u001b[0m\u001b[0;34m\u001b[0m\u001b[0;34m\u001b[0m\u001b[0m\n\u001b[1;32m   1218\u001b[0m                 \u001b[0;31m# re-raise KeyboardInterrupt, to truncate traceback\u001b[0m\u001b[0;34m\u001b[0m\u001b[0;34m\u001b[0m\u001b[0m\n\u001b[0;32m-> 1219\u001b[0;31m                 \u001b[0;32mraise\u001b[0m \u001b[0mKeyboardInterrupt\u001b[0m\u001b[0;34m(\u001b[0m\u001b[0;34m\"Interrupted by user\"\u001b[0m\u001b[0;34m)\u001b[0m \u001b[0;32mfrom\u001b[0m \u001b[0;32mNone\u001b[0m\u001b[0;34m\u001b[0m\u001b[0;34m\u001b[0m\u001b[0m\n\u001b[0m\u001b[1;32m   1220\u001b[0m             \u001b[0;32mexcept\u001b[0m \u001b[0mException\u001b[0m\u001b[0;34m:\u001b[0m\u001b[0;34m\u001b[0m\u001b[0;34m\u001b[0m\u001b[0m\n\u001b[1;32m   1221\u001b[0m                 \u001b[0mself\u001b[0m\u001b[0;34m.\u001b[0m\u001b[0mlog\u001b[0m\u001b[0;34m.\u001b[0m\u001b[0mwarning\u001b[0m\u001b[0;34m(\u001b[0m\u001b[0;34m\"Invalid Message:\"\u001b[0m\u001b[0;34m,\u001b[0m \u001b[0mexc_info\u001b[0m\u001b[0;34m=\u001b[0m\u001b[0;32mTrue\u001b[0m\u001b[0;34m)\u001b[0m\u001b[0;34m\u001b[0m\u001b[0;34m\u001b[0m\u001b[0m\n",
      "\u001b[0;31mKeyboardInterrupt\u001b[0m: Interrupted by user"
     ]
    }
   ],
   "source": [
    "#make a new while loop that allows for input\n",
    "#when the user types 'done' break the loop\n",
    "#print 'Done!' when broken\n",
    "#make a new while loop that allows for input\n",
    "while True:\n",
    "    line = input('Type here: ')\n",
    "\n",
    "#when the user types 'done' break the loop\n",
    "    if line == 'done':\n",
    "        break\n",
    "\n",
    "    print(line)\n",
    "\n",
    "\n",
    "#print 'Done!' when broken\n",
    "print(\"Done!\")"
   ]
  },
  {
   "cell_type": "code",
   "execution_count": null,
   "metadata": {
    "colab": {
     "base_uri": "https://localhost:8080/"
    },
    "executionInfo": {
     "elapsed": 18381,
     "status": "ok",
     "timestamp": 1686335975300,
     "user": {
      "displayName": "Anas Buhayh",
      "userId": "13931278578707862625"
     },
     "user_tz": 360
    },
    "id": "HKAmwuhsdAox",
    "outputId": "f50fed78-71df-4142-afb6-755b797818e2"
   },
   "outputs": [],
   "source": [
    "#make a new while loop that allows for input\n",
    "# if the first thing in the line is a # continue\n",
    "# if they type 'done' break\n",
    "#print 'Done!' when broken"
   ]
  },
  {
   "cell_type": "markdown",
   "metadata": {
    "id": "swvcaX7Kdw7Y"
   },
   "source": [
    "## Excercise1:\n",
    " \n",
    "write an input statement assigned to a specific value. Then make a while loop to read a number and print out the even values between 0 and the inserted number"
   ]
  },
  {
   "cell_type": "code",
   "execution_count": 11,
   "metadata": {
    "colab": {
     "base_uri": "https://localhost:8080/"
    },
    "executionInfo": {
     "elapsed": 2000,
     "status": "ok",
     "timestamp": 1686599503076,
     "user": {
      "displayName": "Anas Buhayh",
      "userId": "13931278578707862625"
     },
     "user_tz": 300
    },
    "id": "h_905tugJnUT",
    "outputId": "43c8332d-70fb-4b3b-9e0d-4dcdbc80052e"
   },
   "outputs": [
    {
     "name": "stdout",
     "output_type": "stream",
     "text": [
      "Enter a number: 4\n",
      "0\n",
      "2\n",
      "4\n"
     ]
    }
   ],
   "source": [
    "# Step 1: input statement assigned to a value\n",
    "num = int(input(\"Enter a number: \"))\n",
    "\n",
    "# Step 2: while loop to print even numbers from 0 to num\n",
    "counter = 0\n",
    "\n",
    "while counter <= num:\n",
    "    if counter % 2 == 0:\n",
    "        print(counter)\n",
    "    counter += 1"
   ]
  },
  {
   "cell_type": "code",
   "execution_count": null,
   "metadata": {},
   "outputs": [],
   "source": []
  },
  {
   "cell_type": "markdown",
   "metadata": {
    "id": "Yelj_zGfdZn3"
   },
   "source": [
    "## For loops\n",
    "\n",
    "A for loop is used for iterating over a sequence (that is either a list, a tuple, a dictionary, a set, or a string). With the for loop we can execute a set of statements, once for each item in a list, tuple, set etc.\n",
    "\n",
    "Even **strings** are iterable objects, they contain a sequence of characters\n",
    "\n",
    "With the **break** statement we can stop the loop before it has looped through all the items\n",
    "\n",
    "With the **continue** statement we can stop the current iteration of the loop, and continue with the next\n",
    "\n",
    "To loop through a set of code a specified number of times, we can use the **range()** function.\n",
    "The **range()** function returns a sequence of numbers, starting from 0 by default, and increments by 1 (by default), and ends at a specified number. The range() function defaults to 0 as a starting value, however it is possible to specify the starting value by adding a parameter: range(2, 6), which means values from 2 to 6 ***(but not including 6)***. The range() function defaults to increment the sequence by 1, however it is possible to specify the increment value by adding a third parameter: range(2, 30, 3). \n",
    "\n",
    "The **enumerate()** method adds a counter to an iterable and returns it in the form of an enumerating object. This enumerated object can then be used directly for loops or converted into a list of tuples using the list() function.\n",
    "\n",
    "The **else** keyword in a for loop specifies a block of code to be executed when the loop is finished"
   ]
  },
  {
   "cell_type": "code",
   "execution_count": 12,
   "metadata": {
    "id": "zON_9SR-c1Tl"
   },
   "outputs": [
    {
     "name": "stdout",
     "output_type": "stream",
     "text": [
      "Happy New Year, sally\n",
      "Happy New Year, dave\n",
      "Happy New Year, margot\n",
      "Done!\n"
     ]
    }
   ],
   "source": [
    "#lets make a list of names\n",
    "friends = ['sally', 'dave', 'margot']\n",
    "\n",
    "#lets iterate through the list of friends \n",
    "# print out, 'Happy New Year,...' to every friend\n",
    "for friend in friends:\n",
    "    print(\"Happy New Year,\", friend)\n",
    "    \n",
    "    \n",
    "print('Done!')"
   ]
  },
  {
   "cell_type": "code",
   "execution_count": 13,
   "metadata": {
    "id": "QNcBidpldoLd"
   },
   "outputs": [
    {
     "name": "stdout",
     "output_type": "stream",
     "text": [
      "Count: 5\n"
     ]
    }
   ],
   "source": [
    "     # iterative variable is each value we go thrug while running the code\n",
    "#make a counter that increases each iteration and counts how many \n",
    "# values are in the list\n",
    "# 99,40,13,107,45\n",
    "\n",
    "count = 0\n",
    "\n",
    "for itervar in [99,40,13,107,45]:\n",
    "    count = count + 1\n",
    "\n",
    "print('Count:', count)"
   ]
  },
  {
   "cell_type": "code",
   "execution_count": 14,
   "metadata": {
    "colab": {
     "base_uri": "https://localhost:8080/"
    },
    "executionInfo": {
     "elapsed": 15,
     "status": "ok",
     "timestamp": 1686336366526,
     "user": {
      "displayName": "Anas Buhayh",
      "userId": "13931278578707862625"
     },
     "user_tz": 360
    },
    "id": "ElNVDh5MeL4I",
    "outputId": "e41e646b-1261-47b8-9b6b-0e3d40ef4214"
   },
   "outputs": [
    {
     "name": "stdout",
     "output_type": "stream",
     "text": [
      "0\n",
      "1\n",
      "2\n",
      "3\n",
      "4\n",
      "5\n",
      "6\n",
      "7\n",
      "8\n",
      "9\n"
     ]
    }
   ],
   "source": [
    "#using range(), make a for loop that iterates 10 times\n",
    "for number in range(10):\n",
    "        print(number)"
   ]
  },
  {
   "cell_type": "code",
   "execution_count": 17,
   "metadata": {
    "colab": {
     "base_uri": "https://localhost:8080/"
    },
    "executionInfo": {
     "elapsed": 139,
     "status": "ok",
     "timestamp": 1686336316517,
     "user": {
      "displayName": "Anas Buhayh",
      "userId": "13931278578707862625"
     },
     "user_tz": 360
    },
    "id": "pVwK6JRDeafS",
    "outputId": "a6ecf129-741b-4296-8b8d-a6fe66e2692a"
   },
   "outputs": [
    {
     "name": "stdout",
     "output_type": "stream",
     "text": [
      "107\n"
     ]
    }
   ],
   "source": [
    "# lets find the largest number in a list of numbers\n",
    "largest = 0\n",
    "\n",
    "for itervar in [99,40,80,13,107,45,80]:\n",
    "    if itervar > largest:\n",
    "        largest = itervar\n",
    "\n",
    "print(largest)"
   ]
  },
  {
   "cell_type": "code",
   "execution_count": 20,
   "metadata": {
    "id": "VPcmfRL7hW9N"
   },
   "outputs": [],
   "source": [
    "# lets make a list of list\n",
    "mylist = [\n",
    "    [\"Martin\",21,\"INFO\"],\n",
    "    [\"Alex\",25,\"BIO\"],\n",
    "    [\"Kit\",23,\"ENG\"]\n",
    "    ]"
   ]
  },
  {
   "cell_type": "code",
   "execution_count": 21,
   "metadata": {
    "colab": {
     "base_uri": "https://localhost:8080/"
    },
    "executionInfo": {
     "elapsed": 148,
     "status": "ok",
     "timestamp": 1686337292135,
     "user": {
      "displayName": "Anas Buhayh",
      "userId": "13931278578707862625"
     },
     "user_tz": 360
    },
    "id": "gRpWPCfWhx48",
    "outputId": "b3299090-7c51-4156-c8b4-8206563841cc"
   },
   "outputs": [
    {
     "name": "stdout",
     "output_type": "stream",
     "text": [
      "Martin\n",
      "21\n",
      "INFO\n",
      "Alex\n",
      "25\n",
      "BIO\n",
      "Kit\n",
      "23\n",
      "ENG\n"
     ]
    }
   ],
   "source": [
    "#make a for loop that assignes a variable for each position in the second level list\n",
    "#print each variable \n",
    "for student in mylist:\n",
    "    name, age, major = student\n",
    "\n",
    "    print(name)\n",
    "    print(age)\n",
    "    print(major)\n",
    "\n",
    "    "
   ]
  },
  {
   "cell_type": "code",
   "execution_count": 22,
   "metadata": {},
   "outputs": [
    {
     "name": "stdout",
     "output_type": "stream",
     "text": [
      "Martin\n",
      "Alex\n",
      "Kit\n"
     ]
    }
   ],
   "source": [
    "# get the first item in each sublist\n",
    "for student in mylist:\n",
    "        print(student[0])"
   ]
  },
  {
   "cell_type": "code",
   "execution_count": 25,
   "metadata": {
    "colab": {
     "base_uri": "https://localhost:8080/"
    },
    "executionInfo": {
     "elapsed": 16,
     "status": "ok",
     "timestamp": 1686586593555,
     "user": {
      "displayName": "Anas Buhayh",
      "userId": "13931278578707862625"
     },
     "user_tz": 360
    },
    "id": "Y3d4LYJXZMLq",
    "outputId": "ffed0dba-9371-44e1-8ec0-cbc57febcd97"
   },
   "outputs": [
    {
     "name": "stdout",
     "output_type": "stream",
     "text": [
      "position: 0\n",
      "value: 23\n",
      "position: 1\n",
      "value: 45\n",
      "position: 2\n",
      "value: 89\n",
      "position: 3\n",
      "value: 22\n"
     ]
    }
   ],
   "source": [
    "#using enumerate (), iterate throuhg a list and print out the counter\n",
    "newLyst = [ 23,45,89,22]\n",
    "\n",
    "for counter, value in enumerate(newLyst):\n",
    "    print(\"position:\", counter)\n",
    "    print('value:', value)"
   ]
  },
  {
   "cell_type": "code",
   "execution_count": 31,
   "metadata": {
    "colab": {
     "base_uri": "https://localhost:8080/"
    },
    "executionInfo": {
     "elapsed": 13,
     "status": "ok",
     "timestamp": 1686337735544,
     "user": {
      "displayName": "Anas Buhayh",
      "userId": "13931278578707862625"
     },
     "user_tz": 360
    },
    "id": "-ag02eEEip1o",
    "outputId": "6275359f-4b3b-4bba-ad1d-8001ed8e7a01"
   },
   "outputs": [
    {
     "name": "stdout",
     "output_type": "stream",
     "text": [
      "[1973, 25, 54]\n",
      "1973\n",
      "1998\n",
      "2052\n",
      "[1978, 25, 50]\n",
      "1978\n",
      "2003\n",
      "2053\n",
      "[2003, 2007, 2010]\n",
      "2003\n",
      "4010\n",
      "6020\n"
     ]
    }
   ],
   "source": [
    "#make a list of lists of numbers\n",
    "num_list = [[1973, 25 , 54] ,[1978, 25, 50], [2003, 2007, 2010] ]\n",
    "#iterate through both levels of lists using a nested for loop\n",
    "for i in num_list: \n",
    "    subSum = 0\n",
    "    print(i)\n",
    "\n",
    "    for j in i: \n",
    "        \n",
    "    # add up all of the numbers in each sub list\n",
    "        subSum += j\n",
    "        print(subSum)\n"
   ]
  },
  {
   "cell_type": "code",
   "execution_count": 32,
   "metadata": {},
   "outputs": [
    {
     "name": "stdout",
     "output_type": "stream",
     "text": [
      "a\n",
      "1\n",
      "2\n",
      "3\n",
      "b\n",
      "1\n",
      "2\n",
      "3\n",
      "c\n",
      "1\n",
      "2\n",
      "3\n",
      "d\n",
      "1\n",
      "2\n",
      "3\n"
     ]
    }
   ],
   "source": [
    "# make two lists\n",
    "# using nested for loops, after every variable in lyst 1 print the varible in the second list\n",
    "\n",
    "lyst1 = ['a', 'b','c','d']\n",
    "lyst2  = [1,2,3]\n",
    "\n",
    "# using nested for loops,\n",
    "for i in lyst1:\n",
    "    # after every variable in lyst 1 \n",
    "    print(i)\n",
    "\n",
    "    # print the varibles in the second list\n",
    "    for j in lyst2:\n",
    "        print(j)"
   ]
  },
  {
   "cell_type": "code",
   "execution_count": null,
   "metadata": {},
   "outputs": [],
   "source": []
  },
  {
   "cell_type": "markdown",
   "metadata": {
    "id": "U0JZT35qgVF1"
   },
   "source": [
    "### Excercise 2\n",
    "1. Write a loop that reads a set of values and appends them to a list.\n",
    "2. sort the values in the list\n",
    "3. Print out the list using a for loop in the following formatting.\n",
    "  - item 1: -----\n",
    "\n"
   ]
  },
  {
   "cell_type": "code",
   "execution_count": 35,
   "metadata": {
    "id": "0begRNd1TXy8"
   },
   "outputs": [
    {
     "ename": "KeyboardInterrupt",
     "evalue": "Interrupted by user",
     "output_type": "error",
     "traceback": [
      "\u001b[0;31m---------------------------------------------------------------------------\u001b[0m",
      "\u001b[0;31mKeyboardInterrupt\u001b[0m                         Traceback (most recent call last)",
      "\u001b[0;32m/var/folders/vw/pm30yvwx2j16k5b7q2hm828c0000gn/T/ipykernel_30613/243990477.py\u001b[0m in \u001b[0;36m<module>\u001b[0;34m\u001b[0m\n\u001b[1;32m      4\u001b[0m \u001b[0;31m# Use a loop to read 5 values\u001b[0m\u001b[0;34m\u001b[0m\u001b[0;34m\u001b[0m\u001b[0m\n\u001b[1;32m      5\u001b[0m \u001b[0;32mfor\u001b[0m \u001b[0mi\u001b[0m \u001b[0;32min\u001b[0m \u001b[0mrange\u001b[0m\u001b[0;34m(\u001b[0m\u001b[0;36m5\u001b[0m\u001b[0;34m)\u001b[0m\u001b[0;34m:\u001b[0m\u001b[0;34m\u001b[0m\u001b[0;34m\u001b[0m\u001b[0m\n\u001b[0;32m----> 6\u001b[0;31m     \u001b[0mvalue\u001b[0m \u001b[0;34m=\u001b[0m \u001b[0minput\u001b[0m\u001b[0;34m(\u001b[0m\u001b[0;34m\"Enter a value: \"\u001b[0m\u001b[0;34m)\u001b[0m\u001b[0;34m\u001b[0m\u001b[0;34m\u001b[0m\u001b[0m\n\u001b[0m\u001b[1;32m      7\u001b[0m     \u001b[0mmy_list\u001b[0m\u001b[0;34m.\u001b[0m\u001b[0mappend\u001b[0m\u001b[0;34m(\u001b[0m\u001b[0mvalue\u001b[0m\u001b[0;34m)\u001b[0m\u001b[0;34m\u001b[0m\u001b[0;34m\u001b[0m\u001b[0m\n\u001b[1;32m      8\u001b[0m \u001b[0;34m\u001b[0m\u001b[0m\n",
      "\u001b[0;32m~/opt/anaconda3/lib/python3.9/site-packages/ipykernel/kernelbase.py\u001b[0m in \u001b[0;36mraw_input\u001b[0;34m(self, prompt)\u001b[0m\n\u001b[1;32m   1175\u001b[0m                 \u001b[0;34m\"raw_input was called, but this frontend does not support input requests.\"\u001b[0m\u001b[0;34m\u001b[0m\u001b[0;34m\u001b[0m\u001b[0m\n\u001b[1;32m   1176\u001b[0m             )\n\u001b[0;32m-> 1177\u001b[0;31m         return self._input_request(\n\u001b[0m\u001b[1;32m   1178\u001b[0m             \u001b[0mstr\u001b[0m\u001b[0;34m(\u001b[0m\u001b[0mprompt\u001b[0m\u001b[0;34m)\u001b[0m\u001b[0;34m,\u001b[0m\u001b[0;34m\u001b[0m\u001b[0;34m\u001b[0m\u001b[0m\n\u001b[1;32m   1179\u001b[0m             \u001b[0mself\u001b[0m\u001b[0;34m.\u001b[0m\u001b[0m_parent_ident\u001b[0m\u001b[0;34m[\u001b[0m\u001b[0;34m\"shell\"\u001b[0m\u001b[0;34m]\u001b[0m\u001b[0;34m,\u001b[0m\u001b[0;34m\u001b[0m\u001b[0;34m\u001b[0m\u001b[0m\n",
      "\u001b[0;32m~/opt/anaconda3/lib/python3.9/site-packages/ipykernel/kernelbase.py\u001b[0m in \u001b[0;36m_input_request\u001b[0;34m(self, prompt, ident, parent, password)\u001b[0m\n\u001b[1;32m   1217\u001b[0m             \u001b[0;32mexcept\u001b[0m \u001b[0mKeyboardInterrupt\u001b[0m\u001b[0;34m:\u001b[0m\u001b[0;34m\u001b[0m\u001b[0;34m\u001b[0m\u001b[0m\n\u001b[1;32m   1218\u001b[0m                 \u001b[0;31m# re-raise KeyboardInterrupt, to truncate traceback\u001b[0m\u001b[0;34m\u001b[0m\u001b[0;34m\u001b[0m\u001b[0m\n\u001b[0;32m-> 1219\u001b[0;31m                 \u001b[0;32mraise\u001b[0m \u001b[0mKeyboardInterrupt\u001b[0m\u001b[0;34m(\u001b[0m\u001b[0;34m\"Interrupted by user\"\u001b[0m\u001b[0;34m)\u001b[0m \u001b[0;32mfrom\u001b[0m \u001b[0;32mNone\u001b[0m\u001b[0;34m\u001b[0m\u001b[0;34m\u001b[0m\u001b[0m\n\u001b[0m\u001b[1;32m   1220\u001b[0m             \u001b[0;32mexcept\u001b[0m \u001b[0mException\u001b[0m\u001b[0;34m:\u001b[0m\u001b[0;34m\u001b[0m\u001b[0;34m\u001b[0m\u001b[0m\n\u001b[1;32m   1221\u001b[0m                 \u001b[0mself\u001b[0m\u001b[0;34m.\u001b[0m\u001b[0mlog\u001b[0m\u001b[0;34m.\u001b[0m\u001b[0mwarning\u001b[0m\u001b[0;34m(\u001b[0m\u001b[0;34m\"Invalid Message:\"\u001b[0m\u001b[0;34m,\u001b[0m \u001b[0mexc_info\u001b[0m\u001b[0;34m=\u001b[0m\u001b[0;32mTrue\u001b[0m\u001b[0;34m)\u001b[0m\u001b[0;34m\u001b[0m\u001b[0;34m\u001b[0m\u001b[0m\n",
      "\u001b[0;31mKeyboardInterrupt\u001b[0m: Interrupted by user"
     ]
    }
   ],
   "source": [
    "#  Create an empty list\n",
    "my_list = []\n",
    "\n",
    "# Use a loop to read 5 values\n",
    "for i in range(5):\n",
    "    value = input(\"Enter a value: \")\n",
    "    my_list.append(value)\n",
    "\n",
    "# Step 2: Sort the list\n",
    "my_list.sort()\n",
    "\n"
   ]
  },
  {
   "cell_type": "code",
   "execution_count": null,
   "metadata": {
    "colab": {
     "base_uri": "https://localhost:8080/"
    },
    "executionInfo": {
     "elapsed": 12216,
     "status": "ok",
     "timestamp": 1686602018060,
     "user": {
      "displayName": "Anas Buhayh",
      "userId": "13931278578707862625"
     },
     "user_tz": 300
    },
    "id": "QQufLms6TrG7",
    "outputId": "d7b335b8-bf0b-44fe-c324-26924c3e90bd"
   },
   "outputs": [],
   "source": []
  },
  {
   "cell_type": "code",
   "execution_count": null,
   "metadata": {},
   "outputs": [],
   "source": []
  },
  {
   "cell_type": "markdown",
   "metadata": {
    "id": "X5GME_w7ewyu"
   },
   "source": [
    "## Strings\n",
    "Strings in python are surrounded by either single quotation marks, or double quotation marks.'hello' is the same as \"hello\".\n",
    "\n",
    "Like many other popular programming languages, strings in Python are arrays of bytes representing unicode characters.\n",
    "\n",
    "However, Python does not have a character data type, a single character is simply a string with a length of 1.\n",
    "\n",
    "Square brackets can be used to access elements of the string.\n",
    "\n",
    "Since strings are arrays, we can loop through the characters in a string, with a for loop.\n",
    "\n",
    "To check if a certain phrase or character is present in a string, we can use the keyword **in**. To check if a certain phrase or character is NOT present in a string, we can use the keyword **not in**.\n",
    "\n",
    "\n",
    "To check if a certain phrase or character is present in a string, we can use the keyword in.\n",
    "\n",
    "**Methods**\n",
    "- len()\n",
    "- upper()\n",
    "- find()\n",
    "- startswith()\n",
    "- strip()\n",
    "- rstrip()\n",
    "- replace()"
   ]
  },
  {
   "cell_type": "code",
   "execution_count": 37,
   "metadata": {
    "id": "ywWjMQ5Te3Co"
   },
   "outputs": [],
   "source": [
    "# make a string variable\n",
    "mynameis = \"Jenisha\""
   ]
  },
  {
   "cell_type": "code",
   "execution_count": 38,
   "metadata": {
    "colab": {
     "base_uri": "https://localhost:8080/",
     "height": 35
    },
    "executionInfo": {
     "elapsed": 178,
     "status": "ok",
     "timestamp": 1686336415815,
     "user": {
      "displayName": "Anas Buhayh",
      "userId": "13931278578707862625"
     },
     "user_tz": 360
    },
    "id": "-VKBVfHveog8",
    "outputId": "c7620016-46ea-47b3-8007-bbf6227ef543"
   },
   "outputs": [
    {
     "data": {
      "text/plain": [
       "'J'"
      ]
     },
     "execution_count": 38,
     "metadata": {},
     "output_type": "execute_result"
    }
   ],
   "source": [
    "#get the first letter in that string\n",
    "mynameis[0]"
   ]
  },
  {
   "cell_type": "code",
   "execution_count": 39,
   "metadata": {
    "colab": {
     "base_uri": "https://localhost:8080/",
     "height": 35
    },
    "executionInfo": {
     "elapsed": 21,
     "status": "ok",
     "timestamp": 1686336423131,
     "user": {
      "displayName": "Anas Buhayh",
      "userId": "13931278578707862625"
     },
     "user_tz": 360
    },
    "id": "BTW8-Gq3eiLK",
    "outputId": "b379b2f0-441c-4ff6-8d50-0c2f6da75c49"
   },
   "outputs": [
    {
     "data": {
      "text/plain": [
       "'a'"
      ]
     },
     "execution_count": 39,
     "metadata": {},
     "output_type": "execute_result"
    }
   ],
   "source": [
    "#get the last letter in that string\n",
    "mynameis[-1]"
   ]
  },
  {
   "cell_type": "code",
   "execution_count": 40,
   "metadata": {
    "colab": {
     "base_uri": "https://localhost:8080/"
    },
    "executionInfo": {
     "elapsed": 12,
     "status": "ok",
     "timestamp": 1686336456135,
     "user": {
      "displayName": "Anas Buhayh",
      "userId": "13931278578707862625"
     },
     "user_tz": 360
    },
    "id": "ql3o9REWe8NS",
    "outputId": "e1724411-c68a-44fe-d3fd-85f326a614fb"
   },
   "outputs": [
    {
     "data": {
      "text/plain": [
       "7"
      ]
     },
     "execution_count": 40,
     "metadata": {},
     "output_type": "execute_result"
    }
   ],
   "source": [
    "#get the length of the string\n",
    "len(mynameis)"
   ]
  },
  {
   "cell_type": "code",
   "execution_count": 41,
   "metadata": {
    "colab": {
     "base_uri": "https://localhost:8080/"
    },
    "executionInfo": {
     "elapsed": 10,
     "status": "ok",
     "timestamp": 1686336496819,
     "user": {
      "displayName": "Anas Buhayh",
      "userId": "13931278578707862625"
     },
     "user_tz": 360
    },
    "id": "pzG4MRPyfERX",
    "outputId": "59dbc69b-c15f-4915-c436-7852ed108b8e"
   },
   "outputs": [
    {
     "name": "stdout",
     "output_type": "stream",
     "text": [
      "J\n",
      "e\n",
      "n\n",
      "i\n",
      "s\n",
      "h\n",
      "a\n"
     ]
    }
   ],
   "source": [
    "#use a for loop and print every letter in that string\n",
    "for char in mynameis:\n",
    "    print(char)"
   ]
  },
  {
   "cell_type": "code",
   "execution_count": 43,
   "metadata": {
    "colab": {
     "base_uri": "https://localhost:8080/",
     "height": 183
    },
    "executionInfo": {
     "elapsed": 190,
     "status": "error",
     "timestamp": 1686336568683,
     "user": {
      "displayName": "Anas Buhayh",
      "userId": "13931278578707862625"
     },
     "user_tz": 360
    },
    "id": "YCcO7MaXfOMv",
    "outputId": "fcd58de8-3e42-43bd-f07f-a69fbc5e7e85"
   },
   "outputs": [
    {
     "ename": "TypeError",
     "evalue": "'str' object does not support item assignment",
     "output_type": "error",
     "traceback": [
      "\u001b[0;31m---------------------------------------------------------------------------\u001b[0m",
      "\u001b[0;31mTypeError\u001b[0m                                 Traceback (most recent call last)",
      "\u001b[0;32m/var/folders/vw/pm30yvwx2j16k5b7q2hm828c0000gn/T/ipykernel_30613/4074534931.py\u001b[0m in \u001b[0;36m<module>\u001b[0;34m\u001b[0m\n\u001b[1;32m      1\u001b[0m \u001b[0;31m#try to reassign the first letter in a string\u001b[0m\u001b[0;34m\u001b[0m\u001b[0;34m\u001b[0m\u001b[0m\n\u001b[0;32m----> 2\u001b[0;31m \u001b[0mmynameis\u001b[0m\u001b[0;34m[\u001b[0m\u001b[0;36m0\u001b[0m\u001b[0;34m]\u001b[0m \u001b[0;34m=\u001b[0m \u001b[0;34m'R'\u001b[0m\u001b[0;34m\u001b[0m\u001b[0;34m\u001b[0m\u001b[0m\n\u001b[0m",
      "\u001b[0;31mTypeError\u001b[0m: 'str' object does not support item assignment"
     ]
    }
   ],
   "source": [
    "#try to reassign the first letter in a string\n",
    "mynameis[0] = 'R'"
   ]
  },
  {
   "cell_type": "code",
   "execution_count": 44,
   "metadata": {
    "colab": {
     "base_uri": "https://localhost:8080/"
    },
    "executionInfo": {
     "elapsed": 126,
     "status": "ok",
     "timestamp": 1686336617346,
     "user": {
      "displayName": "Anas Buhayh",
      "userId": "13931278578707862625"
     },
     "user_tz": 360
    },
    "id": "0TWQhyFOfel0",
    "outputId": "deb9cca5-b62f-49c5-aeb9-ff497e9b52aa"
   },
   "outputs": [],
   "source": [
    "#check if a sub string is a part of a string\n",
    "\n",
    "slogan = 'Sko Buffs'"
   ]
  },
  {
   "cell_type": "code",
   "execution_count": 45,
   "metadata": {
    "colab": {
     "base_uri": "https://localhost:8080/",
     "height": 35
    },
    "executionInfo": {
     "elapsed": 188,
     "status": "ok",
     "timestamp": 1686336670414,
     "user": {
      "displayName": "Anas Buhayh",
      "userId": "13931278578707862625"
     },
     "user_tz": 360
    },
    "id": "UOk3b3jEfroP",
    "outputId": "dd2183ef-e742-4bb4-c09d-4126a5957629"
   },
   "outputs": [
    {
     "data": {
      "text/plain": [
       "'JENISHA'"
      ]
     },
     "execution_count": 45,
     "metadata": {},
     "output_type": "execute_result"
    }
   ],
   "source": [
    "#make the string all uppercase\n",
    "mynameis.upper()"
   ]
  },
  {
   "cell_type": "code",
   "execution_count": 46,
   "metadata": {
    "colab": {
     "base_uri": "https://localhost:8080/"
    },
    "executionInfo": {
     "elapsed": 10,
     "status": "ok",
     "timestamp": 1686336698965,
     "user": {
      "displayName": "Anas Buhayh",
      "userId": "13931278578707862625"
     },
     "user_tz": 360
    },
    "id": "PmENLoydf4jx",
    "outputId": "643bcc14-4cfe-405d-a521-21c0703440a5"
   },
   "outputs": [
    {
     "data": {
      "text/plain": [
       "3"
      ]
     },
     "execution_count": 46,
     "metadata": {},
     "output_type": "execute_result"
    }
   ],
   "source": [
    "#find at what index a letter is in a string\n",
    "\n",
    "charIndex = mynameis.find('i')\n",
    "charIndex"
   ]
  },
  {
   "cell_type": "code",
   "execution_count": 47,
   "metadata": {},
   "outputs": [
    {
     "data": {
      "text/plain": [
       "14"
      ]
     },
     "execution_count": 47,
     "metadata": {},
     "output_type": "execute_result"
    }
   ],
   "source": [
    "# will get me the index of the passed value\n",
    "mystring = \"Hello my name is Jenisha\"\n",
    "mystring.find(\"is\")"
   ]
  },
  {
   "cell_type": "code",
   "execution_count": 48,
   "metadata": {},
   "outputs": [
    {
     "data": {
      "text/plain": [
       "True"
      ]
     },
     "execution_count": 48,
     "metadata": {},
     "output_type": "execute_result"
    }
   ],
   "source": [
    "#check if the string starts with a specific char.\n",
    "mystring.startswith(\"Hello\")\n"
   ]
  },
  {
   "cell_type": "markdown",
   "metadata": {
    "id": "Sif2Y0SmkMf9"
   },
   "source": [
    "### lists and strings\n",
    "- split\n",
    "- join"
   ]
  },
  {
   "cell_type": "code",
   "execution_count": 49,
   "metadata": {},
   "outputs": [
    {
     "data": {
      "text/plain": [
       "'Hello my name is Jenisha'"
      ]
     },
     "execution_count": 49,
     "metadata": {},
     "output_type": "execute_result"
    }
   ],
   "source": [
    "#check string\n",
    "mystring"
   ]
  },
  {
   "cell_type": "code",
   "execution_count": 50,
   "metadata": {},
   "outputs": [
    {
     "data": {
      "text/plain": [
       "['Hello', 'my', 'name', 'is', 'Jenisha']"
      ]
     },
     "execution_count": 50,
     "metadata": {},
     "output_type": "execute_result"
    }
   ],
   "source": [
    "# convert a string to a list\n",
    "mystringList = mystring.split()\n",
    "mystringList"
   ]
  },
  {
   "cell_type": "code",
   "execution_count": 51,
   "metadata": {},
   "outputs": [
    {
     "data": {
      "text/plain": [
       "'HellocatmycatnamecatiscatJenisha'"
      ]
     },
     "execution_count": 51,
     "metadata": {},
     "output_type": "execute_result"
    }
   ],
   "source": [
    "#use .join to add to every string in the string list\n",
    "\n",
    "\"cat\".join(mystringList)"
   ]
  },
  {
   "cell_type": "code",
   "execution_count": null,
   "metadata": {},
   "outputs": [],
   "source": []
  },
  {
   "cell_type": "markdown",
   "metadata": {
    "id": "GoNhncE6g8yZ"
   },
   "source": [
    "## Excercise 3\n",
    "\n",
    "str = 'X-DSPAM-Confidence:0.8475'\n",
    "\n",
    "Use find and string slicing to extract the portion of the string after the\n",
    "colon character and then use the float function to convert the extracted\n",
    "string into a floating point number."
   ]
  },
  {
   "cell_type": "code",
   "execution_count": null,
   "metadata": {
    "colab": {
     "base_uri": "https://localhost:8080/"
    },
    "executionInfo": {
     "elapsed": 132,
     "status": "ok",
     "timestamp": 1686684657530,
     "user": {
      "displayName": "Anas Buhayh",
      "userId": "13931278578707862625"
     },
     "user_tz": 300
    },
    "id": "DOoMekVGOxjB",
    "outputId": "c98f9af8-4beb-4f39-805d-f0c8e70d709d"
   },
   "outputs": [],
   "source": []
  },
  {
   "cell_type": "code",
   "execution_count": null,
   "metadata": {},
   "outputs": [],
   "source": []
  },
  {
   "cell_type": "markdown",
   "metadata": {
    "id": "B3PIBJR7kgSe"
   },
   "source": [
    "## Looping and dictionaries\n",
    "\n",
    "Remember: \n",
    "Dictionaries are used to store data values in key:value pairs.\n",
    "\n",
    "A dictionary is a collection which is ordered*, changeable and do not allow duplicates. Dictionaries are written with curly brackets, and have keys and values.\n",
    "\n",
    "ex: counts = { 'chuck' : 1 , 'annie' : 42, 'jan': 100}\n",
    "\n",
    "\n",
    "**with for loops** \n",
    "\n",
    "You can loop through a dictionary by using a for loop.\n",
    "When looping through a dictionary, the return value are the keys of the dictionary, but there are methods to return the values as well.\n",
    "\n",
    "The **get()** method returns the value of the item with the specified key.\n",
    "\n",
    "\n"
   ]
  },
  {
   "cell_type": "code",
   "execution_count": 54,
   "metadata": {
    "id": "MDOqEkUelRbI"
   },
   "outputs": [
    {
     "name": "stdout",
     "output_type": "stream",
     "text": [
      "chuck 1\n",
      "annie 42\n",
      "jan 100\n"
     ]
    }
   ],
   "source": [
    "# make a dictionary\n",
    "counts = { 'chuck' : 1 , 'annie' : 42, 'jan': 100}\n",
    "\n",
    "\n",
    "# print the value of every key\n",
    "\n",
    "for key in counts:\n",
    "    print(key, counts[key])"
   ]
  },
  {
   "cell_type": "code",
   "execution_count": 55,
   "metadata": {},
   "outputs": [
    {
     "name": "stdout",
     "output_type": "stream",
     "text": [
      "chuck 1\n",
      "annie 42\n",
      "jan 100\n"
     ]
    }
   ],
   "source": [
    " for key, values in counts.items():\n",
    "        print(key, values)"
   ]
  },
  {
   "cell_type": "code",
   "execution_count": null,
   "metadata": {},
   "outputs": [],
   "source": []
  },
  {
   "cell_type": "code",
   "execution_count": 57,
   "metadata": {
    "colab": {
     "base_uri": "https://localhost:8080/"
    },
    "executionInfo": {
     "elapsed": 11,
     "status": "ok",
     "timestamp": 1686337982676,
     "user": {
      "displayName": "Anas Buhayh",
      "userId": "13931278578707862625"
     },
     "user_tz": 360
    },
    "id": "hByLbAPNgKNj",
    "outputId": "f6345778-c34d-4451-80c6-067ce3e14629"
   },
   "outputs": [
    {
     "name": "stdout",
     "output_type": "stream",
     "text": [
      "{'b': 1, 'r': 2, 'o': 2, 'n': 1, 't': 1, 's': 2, 'a': 1, 'u': 2}\n"
     ]
    }
   ],
   "source": [
    "#make a dicitonary of letters in a string and how many of those letters there are\n",
    "\n",
    "word = 'brontosaurus'\n",
    "\n",
    "d = {}\n",
    "# d = dict()\n",
    "\n",
    "#list of letters\n",
    "\n",
    "for letter in word:\n",
    "    if letter in d:\n",
    "        d[letter]  = d[letter] + 1\n",
    "\n",
    "    else:\n",
    "        d[letter] = 1\n",
    "\n",
    "print(d)\n",
    "        "
   ]
  },
  {
   "cell_type": "markdown",
   "metadata": {
    "id": "GLv_Qv3SlKQH"
   },
   "source": [
    "counting characters using get"
   ]
  },
  {
   "cell_type": "code",
   "execution_count": 58,
   "metadata": {
    "colab": {
     "base_uri": "https://localhost:8080/"
    },
    "executionInfo": {
     "elapsed": 151,
     "status": "ok",
     "timestamp": 1686338082995,
     "user": {
      "displayName": "Anas Buhayh",
      "userId": "13931278578707862625"
     },
     "user_tz": 360
    },
    "id": "pvgezgf4k45i",
    "outputId": "c33ad9e8-454d-4af4-ecff-821c9fda41b7"
   },
   "outputs": [],
   "source": [
    "# with '.get()' do the same thing\n",
    "for letter in word:\n",
    "    d[letter]= d.get(letter, 0)+1"
   ]
  },
  {
   "cell_type": "code",
   "execution_count": 59,
   "metadata": {
    "colab": {
     "base_uri": "https://localhost:8080/"
    },
    "executionInfo": {
     "elapsed": 152,
     "status": "ok",
     "timestamp": 1686338245611,
     "user": {
      "displayName": "Anas Buhayh",
      "userId": "13931278578707862625"
     },
     "user_tz": 360
    },
    "id": "uh63ep64l1OC",
    "outputId": "ad979dad-d452-4f44-ba81-a31df6dfdc39"
   },
   "outputs": [
    {
     "name": "stdout",
     "output_type": "stream",
     "text": [
      "['annie', 'chuck', 'jan']\n",
      "annie 42\n",
      "chuck 1\n",
      "jan 100\n"
     ]
    }
   ],
   "source": [
    "#print the items of a dictionary in alphabetical order\n",
    "ounts = { 'chuck' : 1 , 'annie' : 42, 'jan': 100}\n",
    "\n",
    "#organize the keys by alphabetical\n",
    "lyst = list(counts.keys())\n",
    "lyst.sort()\n",
    "\n",
    "print(lyst)\n",
    "\n",
    "\n",
    "#print the key:value (items) in alphabetical\n",
    "for key in lyst: \n",
    "    print(key, counts[key])"
   ]
  },
  {
   "cell_type": "code",
   "execution_count": null,
   "metadata": {},
   "outputs": [],
   "source": []
  },
  {
   "cell_type": "markdown",
   "metadata": {
    "id": "84rn4HEWo0LU"
   },
   "source": [
    "## Putting it all together"
   ]
  },
  {
   "cell_type": "markdown",
   "metadata": {
    "id": "9DM3kOHvZpwa"
   },
   "source": [
    "**Excercise**\n",
    "- Create a dictionary with four grocery items and their prices\n",
    "- Using input, read items and store them in a list\n",
    "- Print out the total price of the inserted items"
   ]
  },
  {
   "cell_type": "code",
   "execution_count": 64,
   "metadata": {
    "id": "AtEFNZQVl5Ii"
   },
   "outputs": [],
   "source": [
    "#Create a dictionary with four grocery items and their prices\n",
    "Veggi = {\n",
    "    \"Potato\" : 56,\n",
    "    \"Onion\"  :63,\n",
    "    \"Tomato\" : 50\n",
    "}"
   ]
  },
  {
   "cell_type": "code",
   "execution_count": 69,
   "metadata": {
    "colab": {
     "base_uri": "https://localhost:8080/"
    },
    "executionInfo": {
     "elapsed": 8668,
     "status": "ok",
     "timestamp": 1686686635142,
     "user": {
      "displayName": "Anas Buhayh",
      "userId": "13931278578707862625"
     },
     "user_tz": 300
    },
    "id": "KYO9tHby68aI",
    "outputId": "6a84cba9-de42-46ff-c077-7e875af86e8d"
   },
   "outputs": [
    {
     "name": "stdout",
     "output_type": "stream",
     "text": [
      "Enter a vegetable name: Tomato\n",
      "Enter a vegetable name: Onion\n",
      "Enter a vegetable name: Potato\n",
      "Item is not in the grocery list!\n",
      "Item is not in the grocery list!\n",
      "Item is not in the grocery list!\n",
      "Your grocery items: ['potato', 'tomato', 'onion', 'Potato', 'Onion', 'Tomato', 'Onion', 'Potato', 'Tomato', 'Tomato', 'Onion', 'Potato', 'Tomato', 'Onion', 'Potato']\n",
      "Total price: 676\n"
     ]
    }
   ],
   "source": [
    "#Using input, read items and store them in a list\n",
    "lmy_list = []   # start empty\n",
    "\n",
    "for i in range(3):\n",
    "    item = input(\"Enter a vegetable name: \")\n",
    "    my_list.append(item)\n",
    "\n",
    "#Calculate total price\n",
    "total = 0\n",
    "for item in my_list:\n",
    "    # check if the item exists in dictionary to avoid errors\n",
    "    if item in Veggi:\n",
    "        total += Veggi[item]\n",
    "    else:\n",
    "        print(\"Item is not in the grocery list!\")\n",
    "\n",
    "print(\"Your grocery items:\", my_list)\n",
    "print(\"Total price:\", total)"
   ]
  },
  {
   "cell_type": "code",
   "execution_count": null,
   "metadata": {
    "colab": {
     "base_uri": "https://localhost:8080/",
     "height": 166
    },
    "executionInfo": {
     "elapsed": 302,
     "status": "error",
     "timestamp": 1686686508922,
     "user": {
      "displayName": "Anas Buhayh",
      "userId": "13931278578707862625"
     },
     "user_tz": 300
    },
    "id": "OUN1fuhz7FGb",
    "outputId": "dd36b501-e456-4509-81ee-be2ab5dfa790"
   },
   "outputs": [],
   "source": []
  },
  {
   "cell_type": "code",
   "execution_count": null,
   "metadata": {
    "id": "nNkWjeknWZtd"
   },
   "outputs": [],
   "source": []
  }
 ],
 "metadata": {
  "colab": {
   "authorship_tag": "ABX9TyNXp6qACXEUAjvHz8BuzjXX",
   "provenance": []
  },
  "kernelspec": {
   "display_name": "Python 3 (ipykernel)",
   "language": "python",
   "name": "python3"
  },
  "language_info": {
   "codemirror_mode": {
    "name": "ipython",
    "version": 3
   },
   "file_extension": ".py",
   "mimetype": "text/x-python",
   "name": "python",
   "nbconvert_exporter": "python",
   "pygments_lexer": "ipython3",
   "version": "3.9.13"
  }
 },
 "nbformat": 4,
 "nbformat_minor": 1
}
